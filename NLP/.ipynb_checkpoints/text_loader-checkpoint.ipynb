{
 "cells": [
  {
   "cell_type": "code",
   "execution_count": 1,
   "metadata": {},
   "outputs": [
    {
     "name": "stdout",
     "output_type": "stream",
     "text": [
      "1\n"
     ]
    }
   ],
   "source": [
    "print(1)"
   ]
  },
  {
   "cell_type": "code",
   "execution_count": 2,
   "metadata": {},
   "outputs": [],
   "source": [
    "from collections import defaultdict\n",
    "\n",
    "class TextLoader:\n",
    "    def __init__(self) -> None:\n",
    "        pass\n",
    "\n",
    "    def create_vocab(self, PATH):\n",
    "\n",
    "        vocab_dict = defaultdict(lambda :0)\n",
    "\n",
    "        corpus = open(PATH, 'r').read()\n",
    "\n",
    "        sentences = corpus.split('\\n')\n",
    "        print(1)\n",
    "        wordList = []\n",
    "        for line in sentences:\n",
    "            wordList += line.lower().split(' ') \n",
    "        print(2)\n",
    "\n",
    "        for word in wordList:\n",
    "            vocab_dict[word] += 1\n",
    "\n",
    "        return vocab_dict\n",
    "\n",
    "        print(3)\n",
    "    def remove_rare_words(self,vocab_dict, min_repeat):\n",
    "        # vocab_dict = dict(sorted(vocab_dict.items(), key=lambda item: item[1]))\n",
    "        wordList = [k for k,v in vocab_dict.items() if v >= min_repeat]\n",
    "        print(4)\n",
    "        vocab = set(wordList)\n",
    "        print(len(vocab), len(wordList))\n",
    "\n",
    "\n",
    "        "
   ]
  },
  {
   "cell_type": "code",
   "execution_count": 3,
   "metadata": {},
   "outputs": [
    {
     "name": "stdout",
     "output_type": "stream",
     "text": [
      "1\n",
      "2\n"
     ]
    }
   ],
   "source": [
    "loader = TextLoader()\n",
    "# loader.create_vocab('train.en', 40)\n",
    "vd = loader.create_vocab('train.de')\n"
   ]
  },
  {
   "cell_type": "code",
   "execution_count": null,
   "metadata": {},
   "outputs": [],
   "source": [
    "loader.remove_rare_words(vd, 50)\n",
    "loader.remove_rare_words(vd, 60)"
   ]
  }
 ],
 "metadata": {
  "kernelspec": {
   "display_name": "misc",
   "language": "python",
   "name": "misc"
  },
  "language_info": {
   "codemirror_mode": {
    "name": "ipython",
    "version": 3
   },
   "file_extension": ".py",
   "mimetype": "text/x-python",
   "name": "python",
   "nbconvert_exporter": "python",
   "pygments_lexer": "ipython3",
   "version": "3.8.13"
  },
  "vscode": {
   "interpreter": {
    "hash": "fed06bf59c2dce7e74d2db68b55cc98c8bc8224357c938194ab2a79b3f94002d"
   }
  }
 },
 "nbformat": 4,
 "nbformat_minor": 2
}
